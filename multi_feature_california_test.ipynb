{
 "cells": [
  {
   "cell_type": "code",
   "execution_count": 14,
   "metadata": {},
   "outputs": [],
   "source": [
    "import numpy as np\n",
    "import pandas as pd\n",
    "import matplotlib.pyplot as plt\n",
    "from sklearn.datasets import fetch_california_housing\n",
    "from sklearn.model_selection import train_test_split\n",
    "\n",
    "from GeneticFeatures.GeneticFeatureGenerator import *\n",
    "from GeneticFeatures.Node import *"
   ]
  },
  {
   "cell_type": "code",
   "execution_count": 15,
   "metadata": {},
   "outputs": [],
   "source": [
    "df = pd.read_csv('winequality-red.csv')\n",
    "# x is everything except the last column\n",
    "X = df.iloc[:, :-1].values\n",
    "# y is the last column\n",
    "Y = df.iloc[:, -1].values\n",
    "\n",
    "X_train, X_test, Y_train, Y_test = train_test_split(X, Y, test_size=0.2, random_state=42)"
   ]
  },
  {
   "cell_type": "code",
   "execution_count": 16,
   "metadata": {},
   "outputs": [],
   "source": [
    "def add(x, y):\n",
    "    return x + y\n",
    "\n",
    "def sub(x, y):\n",
    "    return x - y\n",
    "\n",
    "def mul(x, y):\n",
    "    return x * y\n",
    "\n",
    "def div(x, y):\n",
    "    return x / (y + 1e-10)"
   ]
  },
  {
   "cell_type": "code",
   "execution_count": 17,
   "metadata": {},
   "outputs": [],
   "source": [
    "generator = GeneticFeatureGenerator(\n",
    "    [add, sub, mul, div],\n",
    "    operation_names = [\"+\", \"-\", \"*\", \"/\"],\n",
    "    popsize = 100, \n",
    "    maxiter = 60, \n",
    "    mutation_rate = 0.05\n",
    ")"
   ]
  },
  {
   "cell_type": "code",
   "execution_count": 18,
   "metadata": {},
   "outputs": [],
   "source": [
    "multifeature = MultiFeatureGenerator(X_train, Y_train, generator, 8, 5000, verbose=True)"
   ]
  },
  {
   "cell_type": "code",
   "execution_count": 19,
   "metadata": {},
   "outputs": [
    {
     "name": "stdout",
     "output_type": "stream",
     "text": [
      "Split:  1\n",
      "Split:  2:  59 Best fitness:  0.30933544303797467 Generation best 0.25890031645569623\n",
      "Split:  3:  59 Best fitness:  0.2164161392405063 Generation best 0.174525316455696247\n",
      "Split:  4:  59 Best fitness:  0.28916139240506333 Generation best 0.23872626582278478\n",
      "Split:  5:  59 Best fitness:  0.299367088607595 Generation best 0.2663765822784810484\n",
      "Iteration:  35 Best fitness:  0.3114715189873418 Generation best 0.31147151898734189\r"
     ]
    }
   ],
   "source": [
    "trees = [i for i in multifeature]"
   ]
  },
  {
   "cell_type": "code",
   "execution_count": null,
   "metadata": {},
   "outputs": [
    {
     "data": {
      "text/plain": [
       "[<Node.Tree at 0x12d677e7cd0>,\n",
       " <Node.Tree at 0x12d67df0850>,\n",
       " <Node.Tree at 0x12d67e72040>,\n",
       " <Node.Tree at 0x12d68a6a7f0>,\n",
       " <Node.Tree at 0x12d6a84e0a0>,\n",
       " <Node.Tree at 0x12d6837b4c0>,\n",
       " <Node.Tree at 0x12d68022c10>,\n",
       " <Node.Tree at 0x12d68816c40>]"
      ]
     },
     "execution_count": 7,
     "metadata": {},
     "output_type": "execute_result"
    }
   ],
   "source": [
    "trees"
   ]
  },
  {
   "cell_type": "code",
   "execution_count": null,
   "metadata": {},
   "outputs": [],
   "source": [
    "new_train_features = np.array([tree(X_train) for tree in trees]).T\n",
    "new_test_features = np.array([tree(X_test) for tree in trees]).T\n",
    "\n",
    "new_train_features_concated = np.concatenate([X_train, new_train_features], axis=1)\n",
    "new_test_features_concated = np.concatenate([X_test, new_test_features], axis=1)"
   ]
  },
  {
   "cell_type": "code",
   "execution_count": null,
   "metadata": {},
   "outputs": [
    {
     "name": "stdout",
     "output_type": "stream",
     "text": [
      "Old features score:  0.527777282983906\n",
      "New features score:  0.5448850102362559\n"
     ]
    }
   ],
   "source": [
    "from sklearn.ensemble import RandomForestRegressor\n",
    "\n",
    "# test with old featues\n",
    "rf = RandomForestRegressor(n_estimators=100)\n",
    "rf.fit(X_train, Y_train)\n",
    "print(\"Old features score: \", rf.score(X_test, Y_test))\n",
    "\n",
    "# test with new features\n",
    "rf = RandomForestRegressor(n_estimators=100)\n",
    "rf.fit(new_train_features_concated, Y_train)\n",
    "print(\"New features score: \", rf.score(new_test_features_concated, Y_test))"
   ]
  },
  {
   "cell_type": "code",
   "execution_count": null,
   "metadata": {},
   "outputs": [],
   "source": []
  }
 ],
 "metadata": {
  "kernelspec": {
   "display_name": "Python 3.8.0 64-bit",
   "language": "python",
   "name": "python3"
  },
  "language_info": {
   "codemirror_mode": {
    "name": "ipython",
    "version": 3
   },
   "file_extension": ".py",
   "mimetype": "text/x-python",
   "name": "python",
   "nbconvert_exporter": "python",
   "pygments_lexer": "ipython3",
   "version": "3.9.0"
  },
  "orig_nbformat": 4,
  "vscode": {
   "interpreter": {
    "hash": "52634da84371cba311ea128a5ea7cdc41ff074b781779e754b270ff9f8153cee"
   }
  }
 },
 "nbformat": 4,
 "nbformat_minor": 2
}
