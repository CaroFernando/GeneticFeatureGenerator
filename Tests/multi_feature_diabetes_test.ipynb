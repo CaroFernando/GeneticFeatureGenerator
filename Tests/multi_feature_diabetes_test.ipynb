{
 "cells": [
  {
   "cell_type": "code",
   "execution_count": 9,
   "metadata": {},
   "outputs": [],
   "source": [
    "import numpy as np\n",
    "import pandas as pd\n",
    "import matplotlib.pyplot as plt\n",
    "from sklearn.datasets import load_diabetes, load_boston\n",
    "from sklearn.model_selection import train_test_split\n",
    "\n",
    "from GeneticFeatures.GeneticFeatureGenerator import *\n",
    "from GeneticFeatures.Node import *"
   ]
  },
  {
   "cell_type": "code",
   "execution_count": 10,
   "metadata": {},
   "outputs": [],
   "source": [
    "diabetes_ds = load_diabetes()\n",
    "X = diabetes_ds.data\n",
    "Y = diabetes_ds.target\n",
    "\n",
    "X_train, X_test, Y_train, Y_test = train_test_split(X, Y, test_size=0.2, random_state=42)"
   ]
  },
  {
   "cell_type": "code",
   "execution_count": 11,
   "metadata": {},
   "outputs": [],
   "source": [
    "def add(x, y):\n",
    "    return x + y\n",
    "\n",
    "def sub(x, y):\n",
    "    return x - y\n",
    "\n",
    "def mul(x, y):\n",
    "    return x * y\n",
    "\n",
    "def div(x, y):\n",
    "    return x / (y + 1e-10)"
   ]
  },
  {
   "cell_type": "code",
   "execution_count": 12,
   "metadata": {},
   "outputs": [],
   "source": [
    "generator = GeneticFeatureGenerator(\n",
    "    [add, sub, mul, div],\n",
    "    operation_names = [\"+\", \"-\", \"*\", \"/\"],\n",
    "    popsize = 100, \n",
    "    maxiter = 40, \n",
    "    clone_prob = 0.1, \n",
    "    mutation_rate = 0.05\n",
    ")"
   ]
  },
  {
   "cell_type": "code",
   "execution_count": 13,
   "metadata": {},
   "outputs": [],
   "source": [
    "multifeature = MultiFeatureGenerator(X_train, Y_train, generator, 5, 3, 10000, verbose=False)"
   ]
  },
  {
   "cell_type": "code",
   "execution_count": 14,
   "metadata": {},
   "outputs": [
    {
     "name": "stdout",
     "output_type": "stream",
     "text": [
      "Split:  0 Feature:  0\n",
      "Split:  1 Feature:  1\n",
      "Split:  2 Feature:  2\n",
      "Split:  0 Feature:  3\n",
      "Split:  1 Feature:  4\n"
     ]
    }
   ],
   "source": [
    "trees = [i for i in multifeature]"
   ]
  },
  {
   "cell_type": "code",
   "execution_count": 15,
   "metadata": {},
   "outputs": [],
   "source": [
    "new_train_features = np.array([tree(X_train) for tree in trees]).T\n",
    "new_test_features = np.array([tree(X_test) for tree in trees]).T\n",
    "\n",
    "new_train_features_concated = np.concatenate([X_train, new_train_features], axis=1)\n",
    "new_test_features_concated = np.concatenate([X_test, new_test_features], axis=1)"
   ]
  },
  {
   "cell_type": "code",
   "execution_count": 16,
   "metadata": {},
   "outputs": [
    {
     "name": "stdout",
     "output_type": "stream",
     "text": [
      "Old features score:  0.4195769562648065\n",
      "New features score:  0.4772563426014842\n"
     ]
    }
   ],
   "source": [
    "from sklearn.ensemble import RandomForestRegressor\n",
    "\n",
    "# test with old featues\n",
    "rf = RandomForestRegressor(n_estimators=100)\n",
    "rf.fit(X_train, Y_train)\n",
    "print(\"Old features score: \", rf.score(X_test, Y_test))\n",
    "\n",
    "# test with new features\n",
    "rf = RandomForestRegressor(n_estimators=100)\n",
    "rf.fit(new_train_features_concated, Y_train)\n",
    "print(\"New features score: \", rf.score(new_test_features_concated, Y_test))"
   ]
  },
  {
   "attachments": {},
   "cell_type": "markdown",
   "metadata": {},
   "source": []
  }
 ],
 "metadata": {
  "kernelspec": {
   "display_name": "Python 3.9.13 64-bit",
   "language": "python",
   "name": "python3"
  },
  "language_info": {
   "codemirror_mode": {
    "name": "ipython",
    "version": 3
   },
   "file_extension": ".py",
   "mimetype": "text/x-python",
   "name": "python",
   "nbconvert_exporter": "python",
   "pygments_lexer": "ipython3",
   "version": "3.9.13 (tags/v3.9.13:6de2ca5, May 17 2022, 16:36:42) [MSC v.1929 64 bit (AMD64)]"
  },
  "orig_nbformat": 4,
  "vscode": {
   "interpreter": {
    "hash": "d36eb4ffb1b509eac7c8ec69a0f00740540681bdf210a10d1e2607102c088e08"
   }
  }
 },
 "nbformat": 4,
 "nbformat_minor": 2
}
