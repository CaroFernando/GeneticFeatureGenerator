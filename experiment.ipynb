{
 "cells": [
  {
   "cell_type": "code",
   "execution_count": 1,
   "metadata": {},
   "outputs": [],
   "source": [
    "import numpy as np\n",
    "import pandas as pd\n",
    "import matplotlib.pyplot as plt\n",
    "from sklearn.datasets import load_diabetes\n",
    "\n",
    "from GeneticFeatures.GeneticFeatureGenerator import *\n",
    "from GeneticFeatures.Node import *\n",
    "\n",
    "from tester import *"
   ]
  },
  {
   "cell_type": "code",
   "execution_count": 2,
   "metadata": {},
   "outputs": [],
   "source": [
    "def add(x, y):\n",
    "    return x + y\n",
    "\n",
    "def sub(x, y):\n",
    "    return x - y\n",
    "\n",
    "def mul(x, y):\n",
    "    return x * y\n",
    "\n",
    "def div(x, y):\n",
    "    return x / (y + 1e-10)"
   ]
  },
  {
   "cell_type": "code",
   "execution_count": 3,
   "metadata": {},
   "outputs": [],
   "source": [
    "generator = GeneticFeatureGenerator(\n",
    "    [add, sub, mul, div],\n",
    "    operation_names = [\"+\", \"-\", \"*\", \"/\"],\n",
    "    popsize = 100, \n",
    "    maxiter = 60, \n",
    "    mutation_rate = 0.05\n",
    ")"
   ]
  },
  {
   "cell_type": "code",
   "execution_count": 4,
   "metadata": {},
   "outputs": [],
   "source": [
    "dataset = load_diabetes()\n",
    "X = dataset.data\n",
    "y = dataset.target"
   ]
  },
  {
   "cell_type": "code",
   "execution_count": 5,
   "metadata": {},
   "outputs": [
    {
     "name": "stdout",
     "output_type": "stream",
     "text": [
      "Split:  0 Feature:  0\n",
      "Iteration:  59 Best fitness:  0.36968523002421305 Generation best 0.32116222760290567\n",
      "Split:  1 Feature:  1\n",
      "Iteration:  59 Best fitness:  0.3788861985472155 Generation best 0.354188861985472175\n",
      "Split:  0 Feature:  2\n",
      "Iteration:  59 Best fitness:  0.35631961259079903 Generation best 0.31254237288135595\n",
      "Split:  1 Feature:  3\n",
      "Iteration:  59 Best fitness:  0.32038740920096853 Generation best 0.32009685230024215\n"
     ]
    }
   ],
   "source": [
    "tester = tester(X, y, generator, 4, 2, 1000, verbose = True, test_size = 0.2, random_state = 42)"
   ]
  },
  {
   "cell_type": "code",
   "execution_count": 6,
   "metadata": {},
   "outputs": [],
   "source": [
    "tester.test_models(notests=50)"
   ]
  },
  {
   "cell_type": "code",
   "execution_count": 7,
   "metadata": {},
   "outputs": [
    {
     "data": {
      "text/html": [
       "<div>\n",
       "<style scoped>\n",
       "    .dataframe tbody tr th:only-of-type {\n",
       "        vertical-align: middle;\n",
       "    }\n",
       "\n",
       "    .dataframe tbody tr th {\n",
       "        vertical-align: top;\n",
       "    }\n",
       "\n",
       "    .dataframe thead th {\n",
       "        text-align: right;\n",
       "    }\n",
       "</style>\n",
       "<table border=\"1\" class=\"dataframe\">\n",
       "  <thead>\n",
       "    <tr style=\"text-align: right;\">\n",
       "      <th></th>\n",
       "      <th>Model</th>\n",
       "      <th>MSE</th>\n",
       "      <th>R2</th>\n",
       "      <th>MAE</th>\n",
       "      <th>NEW_MSE</th>\n",
       "      <th>NEW_R2</th>\n",
       "      <th>NEW_MAE</th>\n",
       "    </tr>\n",
       "  </thead>\n",
       "  <tbody>\n",
       "    <tr>\n",
       "      <th>0</th>\n",
       "      <td>RandomForestRegressor</td>\n",
       "      <td>2945.302579</td>\n",
       "      <td>0.444089</td>\n",
       "      <td>44.153257</td>\n",
       "      <td>2575.066089</td>\n",
       "      <td>0.513969</td>\n",
       "      <td>39.996324</td>\n",
       "    </tr>\n",
       "    <tr>\n",
       "      <th>1</th>\n",
       "      <td>MLPRegressor</td>\n",
       "      <td>4492.908841</td>\n",
       "      <td>0.151986</td>\n",
       "      <td>51.609423</td>\n",
       "      <td>9537.600714</td>\n",
       "      <td>-0.800175</td>\n",
       "      <td>56.769091</td>\n",
       "    </tr>\n",
       "    <tr>\n",
       "      <th>2</th>\n",
       "      <td>GradientBoostingRegressor</td>\n",
       "      <td>3702.534557</td>\n",
       "      <td>0.301165</td>\n",
       "      <td>49.002566</td>\n",
       "      <td>3886.391544</td>\n",
       "      <td>0.266463</td>\n",
       "      <td>46.448880</td>\n",
       "    </tr>\n",
       "  </tbody>\n",
       "</table>\n",
       "</div>"
      ],
      "text/plain": [
       "                       Model          MSE        R2        MAE      NEW_MSE  \\\n",
       "0      RandomForestRegressor  2945.302579  0.444089  44.153257  2575.066089   \n",
       "1               MLPRegressor  4492.908841  0.151986  51.609423  9537.600714   \n",
       "2  GradientBoostingRegressor  3702.534557  0.301165  49.002566  3886.391544   \n",
       "\n",
       "     NEW_R2    NEW_MAE  \n",
       "0  0.513969  39.996324  \n",
       "1 -0.800175  56.769091  \n",
       "2  0.266463  46.448880  "
      ]
     },
     "execution_count": 7,
     "metadata": {},
     "output_type": "execute_result"
    }
   ],
   "source": [
    "tester.get_tests()"
   ]
  },
  {
   "cell_type": "code",
   "execution_count": null,
   "metadata": {},
   "outputs": [],
   "source": []
  }
 ],
 "metadata": {
  "kernelspec": {
   "display_name": "Python 3.9.0 64-bit",
   "language": "python",
   "name": "python3"
  },
  "language_info": {
   "codemirror_mode": {
    "name": "ipython",
    "version": 3
   },
   "file_extension": ".py",
   "mimetype": "text/x-python",
   "name": "python",
   "nbconvert_exporter": "python",
   "pygments_lexer": "ipython3",
   "version": "3.9.0"
  },
  "orig_nbformat": 4,
  "vscode": {
   "interpreter": {
    "hash": "52634da84371cba311ea128a5ea7cdc41ff074b781779e754b270ff9f8153cee"
   }
  }
 },
 "nbformat": 4,
 "nbformat_minor": 2
}
