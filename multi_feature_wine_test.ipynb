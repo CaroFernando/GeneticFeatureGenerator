{
 "cells": [
  {
   "cell_type": "code",
   "execution_count": 1,
   "metadata": {},
   "outputs": [],
   "source": [
    "import numpy as np\n",
    "import pandas as pd\n",
    "import matplotlib.pyplot as plt\n",
    "from sklearn.datasets import fetch_california_housing\n",
    "from sklearn.model_selection import train_test_split\n",
    "\n",
    "from GeneticFeatures.GeneticFeatureGenerator import *\n",
    "from GeneticFeatures.Node import *"
   ]
  },
  {
   "cell_type": "code",
   "execution_count": 2,
   "metadata": {},
   "outputs": [],
   "source": [
    "df = pd.read_csv('winequality-red.csv')\n",
    "# x is everything except the last column\n",
    "X = df.iloc[:, :-1].values\n",
    "# y is the last column\n",
    "Y = df.iloc[:, -1].values\n",
    "\n",
    "X_train, X_test, Y_train, Y_test = train_test_split(X, Y, test_size=0.2, random_state=42)"
   ]
  },
  {
   "cell_type": "code",
   "execution_count": 3,
   "metadata": {},
   "outputs": [],
   "source": [
    "def add(x, y):\n",
    "    return x + y\n",
    "\n",
    "def sub(x, y):\n",
    "    return x - y\n",
    "\n",
    "def mul(x, y):\n",
    "    return x * y\n",
    "\n",
    "def div(x, y):\n",
    "    return x / (y + 1e-10)"
   ]
  },
  {
   "cell_type": "code",
   "execution_count": 4,
   "metadata": {},
   "outputs": [],
   "source": [
    "generator = GeneticFeatureGenerator(\n",
    "    [add, sub, mul, div],\n",
    "    operation_names = [\"+\", \"-\", \"*\", \"/\"],\n",
    "    popsize = 100, \n",
    "    maxiter = 60, \n",
    "    mutation_rate = 0.05\n",
    ")"
   ]
  },
  {
   "cell_type": "code",
   "execution_count": 5,
   "metadata": {},
   "outputs": [],
   "source": [
    "multifeature = MultiFeatureGenerator(X_train, Y_train, generator, 8, 4, 5000, verbose=True)"
   ]
  },
  {
   "cell_type": "code",
   "execution_count": 6,
   "metadata": {},
   "outputs": [
    {
     "name": "stdout",
     "output_type": "stream",
     "text": [
      "Split:  0 Feature:  0\n",
      "Split:  1 Feature:  1itness:  0.24914504716981134 Generation best 0.24914504716981134\n",
      "Split:  2 Feature:  2itness:  0.27588443396226414 Generation best 0.25191627358490565\n",
      "Split:  3 Feature:  3itness:  0.25229952830188684 Generation best 0.23558372641509429\n",
      "Split:  0 Feature:  4itness:  0.2934846698113207 Generation best 0.27862617924528327\n",
      "Split:  1 Feature:  5itness:  0.2675117924528302 Generation best 0.262028301886792586\n",
      "Split:  2 Feature:  6itness:  0.2564563679245283 Generation best 0.239504716981132077\n",
      "Split:  3 Feature:  7itness:  0.2929540094339622 Generation best 0.29295400943396223\n",
      "Iteration:  59 Best fitness:  0.2581662735849056 Generation best 0.249262971698113182\r"
     ]
    }
   ],
   "source": [
    "trees = [i for i in multifeature]"
   ]
  },
  {
   "cell_type": "code",
   "execution_count": 7,
   "metadata": {},
   "outputs": [
    {
     "data": {
      "text/plain": [
       "[<Node.Tree at 0x1d097bde8b0>,\n",
       " <Node.Tree at 0x1d0984651c0>,\n",
       " <Node.Tree at 0x1d097c26250>,\n",
       " <Node.Tree at 0x1d0978cc460>,\n",
       " <Node.Tree at 0x1d0999afac0>,\n",
       " <Node.Tree at 0x1d097bbc160>,\n",
       " <Node.Tree at 0x1d097e52df0>,\n",
       " <Node.Tree at 0x1d0986210a0>]"
      ]
     },
     "execution_count": 7,
     "metadata": {},
     "output_type": "execute_result"
    }
   ],
   "source": [
    "trees"
   ]
  },
  {
   "cell_type": "code",
   "execution_count": 8,
   "metadata": {},
   "outputs": [],
   "source": [
    "new_train_features = np.array([tree(X_train) for tree in trees]).T\n",
    "new_test_features = np.array([tree(X_test) for tree in trees]).T\n",
    "\n",
    "new_train_features_concated = np.concatenate([X_train, new_train_features], axis=1)\n",
    "new_test_features_concated = np.concatenate([X_test, new_test_features], axis=1)"
   ]
  },
  {
   "cell_type": "code",
   "execution_count": 13,
   "metadata": {},
   "outputs": [
    {
     "name": "stdout",
     "output_type": "stream",
     "text": [
      "Old features score:  0.5194271283193115\n",
      "New features score:  0.5249301394222867\n"
     ]
    }
   ],
   "source": [
    "from sklearn.ensemble import RandomForestRegressor\n",
    "\n",
    "# test with old featues\n",
    "rf = RandomForestRegressor(n_estimators=100)\n",
    "rf.fit(X_train, Y_train)\n",
    "print(\"Old features score: \", rf.score(X_test, Y_test))\n",
    "\n",
    "# test with new features\n",
    "rf = RandomForestRegressor(n_estimators=100)\n",
    "rf.fit(new_train_features_concated, Y_train)\n",
    "print(\"New features score: \", rf.score(new_test_features_concated, Y_test))"
   ]
  },
  {
   "cell_type": "code",
   "execution_count": null,
   "metadata": {},
   "outputs": [],
   "source": []
  }
 ],
 "metadata": {
  "kernelspec": {
   "display_name": "Python 3.8.0 64-bit",
   "language": "python",
   "name": "python3"
  },
  "language_info": {
   "codemirror_mode": {
    "name": "ipython",
    "version": 3
   },
   "file_extension": ".py",
   "mimetype": "text/x-python",
   "name": "python",
   "nbconvert_exporter": "python",
   "pygments_lexer": "ipython3",
   "version": "3.9.0"
  },
  "orig_nbformat": 4,
  "vscode": {
   "interpreter": {
    "hash": "52634da84371cba311ea128a5ea7cdc41ff074b781779e754b270ff9f8153cee"
   }
  }
 },
 "nbformat": 4,
 "nbformat_minor": 2
}
